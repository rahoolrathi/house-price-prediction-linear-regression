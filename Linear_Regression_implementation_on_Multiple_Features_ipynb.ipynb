{
  "nbformat": 4,
  "nbformat_minor": 0,
  "metadata": {
    "colab": {
      "provenance": [],
      "include_colab_link": true
    },
    "kernelspec": {
      "name": "python3",
      "display_name": "Python 3"
    },
    "language_info": {
      "name": "python"
    }
  },
  "cells": [
    {
      "cell_type": "markdown",
      "metadata": {
        "id": "view-in-github",
        "colab_type": "text"
      },
      "source": [
        "<a href=\"https://colab.research.google.com/github/rahoolrathi/house-price-prediction-linear-regression/blob/main/Linear_Regression_implementation_on_Multiple_Features_ipynb.ipynb\" target=\"_parent\"><img src=\"https://colab.research.google.com/assets/colab-badge.svg\" alt=\"Open In Colab\"/></a>"
      ]
    },
    {
      "cell_type": "code",
      "execution_count": null,
      "metadata": {
        "id": "c5aIHP2U3XgA"
      },
      "outputs": [],
      "source": [
        "import copy,math\n",
        "import numpy as np\n",
        "import matplotlib.pyplot as plt\n"
      ]
    },
    {
      "cell_type": "code",
      "source": [
        "X_train = np.array([[2104, 5, 1, 45], [1416, 3, 2, 40], [852, 2, 1, 35]])\n",
        "y_train = np.array([460, 232, 178])"
      ],
      "metadata": {
        "id": "I3Z5PPsF4FAQ"
      },
      "execution_count": null,
      "outputs": []
    },
    {
      "cell_type": "code",
      "source": [
        "# data is stored in numpy array/matrix\n",
        "print(f\"X Shape: {X_train.shape}, X Type:{type(X_train)})\")\n",
        "print(X_train)\n",
        "print(f\"y Shape: {y_train.shape}, y Type:{type(y_train)})\")\n",
        "print(y_train)"
      ],
      "metadata": {
        "colab": {
          "base_uri": "https://localhost:8080/"
        },
        "id": "bo5qSyQh4Sja",
        "outputId": "15045271-5c39-4f15-e95e-8e464a4c894b"
      },
      "execution_count": null,
      "outputs": [
        {
          "output_type": "stream",
          "name": "stdout",
          "text": [
            "X Shape: (3, 4), X Type:<class 'numpy.ndarray'>)\n",
            "[[2104    5    1   45]\n",
            " [1416    3    2   40]\n",
            " [ 852    2    1   35]]\n",
            "y Shape: (3,), y Type:<class 'numpy.ndarray'>)\n",
            "[460 232 178]\n"
          ]
        }
      ]
    },
    {
      "cell_type": "code",
      "source": [
        "b_init = 785.1811367994083\n",
        "w_init = np.array([ 0.39133535, 18.75376741, -53.36032453, -26.42131618])\n",
        "print(f\"w_init shape: {w_init.shape}, b_init type: {type(b_init)}\")"
      ],
      "metadata": {
        "colab": {
          "base_uri": "https://localhost:8080/"
        },
        "id": "oTDgjJNE4y_f",
        "outputId": "b438c129-7c66-4e43-be74-7d957d132746"
      },
      "execution_count": null,
      "outputs": [
        {
          "output_type": "stream",
          "name": "stdout",
          "text": [
            "w_init shape: (4,), b_init type: <class 'float'>\n"
          ]
        }
      ]
    },
    {
      "cell_type": "code",
      "source": [
        "def predict(x,w,b):\n",
        "  return np.dot(x,w)+b;"
      ],
      "metadata": {
        "id": "UPSsgrfj47Xu"
      },
      "execution_count": null,
      "outputs": []
    },
    {
      "cell_type": "code",
      "source": [
        "# get a row from our training data\n",
        "x_vec = X_train[0,:]\n",
        "print(f\"x_vec shape {x_vec.shape}, x_vec value: {x_vec}\")\n",
        "\n",
        "# make a prediction\n",
        "f_wb = predict(x_vec,w_init, b_init)\n",
        "print(f\"f_wb shape {f_wb.shape}, prediction: {f_wb}\")"
      ],
      "metadata": {
        "id": "YD6gDT8F5Eet",
        "colab": {
          "base_uri": "https://localhost:8080/"
        },
        "outputId": "01fc6b2d-5afb-48a3-a2dd-6afe9bc334b6"
      },
      "execution_count": null,
      "outputs": [
        {
          "output_type": "stream",
          "name": "stdout",
          "text": [
            "x_vec shape (4,), x_vec value: [2104    5    1   45]\n",
            "f_wb shape (), prediction: 459.9999976194083\n"
          ]
        }
      ]
    },
    {
      "cell_type": "code",
      "source": [
        "def compute_cost(x,y,w,b):\n",
        "  m=x.shape[0];\n",
        "  cost=0.0;\n",
        "  for i in range(m):\n",
        "    f_wb_i=np.dot(x[i],w)+b;\n",
        "    cost=cost+(f_wb_i-y[i])**2\n",
        "  cost=cost/(2*m)\n",
        "  return cost"
      ],
      "metadata": {
        "id": "_KLp4pbH5fOi"
      },
      "execution_count": null,
      "outputs": []
    },
    {
      "cell_type": "code",
      "source": [
        "cost = compute_cost(X_train, y_train, w_init, b_init)\n",
        "print(f'Cost at optimal w : {cost}')"
      ],
      "metadata": {
        "colab": {
          "base_uri": "https://localhost:8080/"
        },
        "id": "5-lQYpSY5_Tt",
        "outputId": "2fe7ae03-6303-47de-fcad-f50d773b0335"
      },
      "execution_count": null,
      "outputs": [
        {
          "output_type": "stream",
          "name": "stdout",
          "text": [
            "Cost at optimal w : 1.5578904428966628e-12\n"
          ]
        }
      ]
    },
    {
      "cell_type": "code",
      "source": [
        "def compute_gradient(X, y, w, b):\n",
        "    m,n = X.shape           #(number of examples, number of features)\n",
        "    dj_dw = np.zeros((n,))\n",
        "    dj_db = 0.\n",
        "\n",
        "    for i in range(m):\n",
        "        err = (np.dot(X[i], w) + b) - y[i]\n",
        "        for j in range(n):\n",
        "            dj_dw[j] = dj_dw[j] + err * X[i, j]\n",
        "        dj_db = dj_db + err\n",
        "    dj_dw = dj_dw / m\n",
        "    dj_db = dj_db / m\n",
        "\n",
        "    return dj_db, dj_dw"
      ],
      "metadata": {
        "id": "cdb8qwwI6NPN"
      },
      "execution_count": null,
      "outputs": []
    },
    {
      "cell_type": "code",
      "source": [
        "def gradient_descent(X, y, w_in, b_in, cost_function, gradient_function, alpha, num_iters):\n",
        "\n",
        "    # An array to store cost J and w's at each iteration primarily for graphing later\n",
        "    J_history = []\n",
        "    w = copy.deepcopy(w_in)  #avoid modifying global w within function\n",
        "    b = b_in\n",
        "\n",
        "    for i in range(num_iters):\n",
        "\n",
        "        # Calculate the gradient and update the parameters\n",
        "        dj_db,dj_dw = gradient_function(X, y, w, b)   ##None\n",
        "\n",
        "        # Update Parameters using w, b, alpha and gradient\n",
        "        w = w - alpha * dj_dw               ##None\n",
        "        b = b - alpha * dj_db               ##None\n",
        "\n",
        "        # Save cost J at each iteration\n",
        "        if i<100000:      # prevent resource exhaustion\n",
        "            J_history.append( cost_function(X, y, w, b))\n",
        "\n",
        "        # Print cost every at intervals 10 times or as many iterations if < 10\n",
        "        if i% math.ceil(num_iters / 10) == 0:\n",
        "            print(f\"Iteration {i:4d}: Cost {J_history[-1]:8.2f}   \")\n",
        "\n",
        "    return w, b, J_history #return final w,b and J history for graphing"
      ],
      "metadata": {
        "id": "wQSFYApR6eJM"
      },
      "execution_count": null,
      "outputs": []
    },
    {
      "cell_type": "code",
      "source": [
        "# initialize parameters\n",
        "initial_w = np.zeros_like(w_init)\n",
        "initial_b = 0.\n",
        "# some gradient descent settings\n",
        "iterations = 1000\n",
        "alpha = 5.0e-7\n",
        "# run gradient descent\n",
        "w_final, b_final, J_hist = gradient_descent(X_train, y_train, initial_w, initial_b,\n",
        "                                                    compute_cost, compute_gradient,\n",
        "                                                    alpha, iterations)\n",
        "print(f\"b,w found by gradient descent: {b_final:0.2f},{w_final} \")\n",
        "m,_ = X_train.shape\n",
        "for i in range(m):\n",
        "    print(f\"prediction:{predict(X_train[i],w_final,b_final)} target value: {y_train[i]}\")"
      ],
      "metadata": {
        "id": "vCM2zJBY6kx8",
        "colab": {
          "base_uri": "https://localhost:8080/"
        },
        "outputId": "372e720c-3ce4-4922-d77f-6720b26caa2f"
      },
      "execution_count": null,
      "outputs": [
        {
          "output_type": "stream",
          "name": "stdout",
          "text": [
            "Iteration    0: Cost  2529.46   \n",
            "Iteration  100: Cost   695.99   \n",
            "Iteration  200: Cost   694.92   \n",
            "Iteration  300: Cost   693.86   \n",
            "Iteration  400: Cost   692.81   \n",
            "Iteration  500: Cost   691.77   \n",
            "Iteration  600: Cost   690.73   \n",
            "Iteration  700: Cost   689.71   \n",
            "Iteration  800: Cost   688.70   \n",
            "Iteration  900: Cost   687.69   \n",
            "b,w found by gradient descent: -0.00,[ 0.20396569  0.00374919 -0.0112487  -0.0658614 ] \n",
            "prediction:426.18530497189204 target value: 460\n",
            "prediction:286.1674720078562 target value: 232\n",
            "prediction:171.46763087132317 target value: 178\n"
          ]
        }
      ]
    },
    {
      "cell_type": "code",
      "source": [],
      "metadata": {
        "id": "H9S0JiLB69mb"
      },
      "execution_count": null,
      "outputs": []
    }
  ]
}